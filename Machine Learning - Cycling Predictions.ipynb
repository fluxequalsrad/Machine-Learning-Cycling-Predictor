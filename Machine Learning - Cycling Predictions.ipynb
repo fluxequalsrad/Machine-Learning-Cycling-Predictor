{
 "cells": [
  {
   "cell_type": "markdown",
   "id": "a9b61ae3",
   "metadata": {},
   "source": [
    "To Do:\n",
    "Write up proper project aim\n",
    "Small initial analysis with graphs\n",
    "Then Machine Learning Predictor - predict when in the week I'll go cycling? Give each day a % probability?"
   ]
  },
  {
   "cell_type": "markdown",
   "id": "308e485b",
   "metadata": {},
   "source": [
    "## Cycling Schedule Predictor\n",
    "\n",
    "### Aim\n",
    "I don't want to say I'm a fair weather cyclist but my days of riding through heavy rain or having to combat brutal headwinds in the name of fitness are reaching an end. Using weather data sourced from the Australian Bureau of Meterology along with my personal cycling data retrieved from Strava (an exercise app), I will develop a model that can review the upcoming weather forecast and predict which days I am most likely to go riding based on my historic rides.\n",
    "\n",
    "Things I consider: try to go for at least two rides a week, more as I'm training for an event. Rain. Best weather of the upcoming week.\n",
    "\n",
    "\n",
    "### Data Preparation"
   ]
  },
  {
   "cell_type": "code",
   "execution_count": 2,
   "id": "880ac4cd",
   "metadata": {},
   "outputs": [],
   "source": [
    "# load libraries\n",
    "import pandas as pd\n",
    "# import janitor\n",
    "# for machine learning\n",
    "# import scikit\n",
    "# import pytorch\n",
    "# import XGBoost"
   ]
  },
  {
   "cell_type": "code",
   "execution_count": 6,
   "id": "9a8ac055",
   "metadata": {},
   "outputs": [],
   "source": [
    "# load data\n",
    "weather = pd.read_csv('Weather Data.csv')\n",
    "cycling = pd.read_csv('July-Dec Cycling Data.csv')"
   ]
  },
  {
   "cell_type": "markdown",
   "id": "d970dd87",
   "metadata": {},
   "source": [
    "When looking at the weather forecast, the main information provided is minimum and maximum temperatures, expected rain, wind direction and wind speed. As this is the only information I have access to when deciding whether I'll go riding, any other information can be removed from our data set."
   ]
  },
  {
   "cell_type": "code",
   "execution_count": 13,
   "id": "12ad7a07",
   "metadata": {},
   "outputs": [
    {
     "name": "stdout",
     "output_type": "stream",
     "text": [
      "Index(['Daily Weather Observations for Melbourne, Victoria for July - December 2023',\n",
      "       'Date', 'Minimum temperature (°C)', 'Maximum temperature (°C)',\n",
      "       'Rainfall (mm)', 'Evaporation (mm)', 'Sunshine (hours)',\n",
      "       'Direction of maximum wind gust ', 'Speed of maximum wind gust (km/h)',\n",
      "       'Time of maximum wind gust', '9am Temperature (°C)',\n",
      "       '9am relative humidity (%)', '9am cloud amount (oktas)',\n",
      "       '9am wind direction', '9am wind speed (km/h)', '9am MSL pressure (hPa)',\n",
      "       '3pm Temperature (°C)', '3pm relative humidity (%)',\n",
      "       '3pm cloud amount (oktas)', '3pm wind direction',\n",
      "       '3pm wind speed (km/h)', '3pm MSL pressure (hPa)'],\n",
      "      dtype='object')\n"
     ]
    }
   ],
   "source": [
    "print(weather.columns)\n",
    "# drop columns\n",
    "weather = weather.drop(columns=['Daily Weather Observations for Melbourne, Victoria for July - December 2023', \n",
    "                               'Evaporation (mm)', 'Direction of maximum wind gust ', \n",
    "                               'Speed of maximum wind gust (km/h)', 'Time of maximum wind gust', \n",
    "                               '9am relative humidity (%)', '9am cloud amount (oktas)', \n",
    "                               '9am MSL pressure (hPa)', '3pm relative humidity (%)', \n",
    "                               '3pm cloud amount (oktas)', '3pm MSL pressure (hPa)'])"
   ]
  },
  {
   "cell_type": "code",
   "execution_count": 14,
   "id": "a88265b3",
   "metadata": {
    "scrolled": false
   },
   "outputs": [
    {
     "data": {
      "text/html": [
       "<div>\n",
       "<style scoped>\n",
       "    .dataframe tbody tr th:only-of-type {\n",
       "        vertical-align: middle;\n",
       "    }\n",
       "\n",
       "    .dataframe tbody tr th {\n",
       "        vertical-align: top;\n",
       "    }\n",
       "\n",
       "    .dataframe thead th {\n",
       "        text-align: right;\n",
       "    }\n",
       "</style>\n",
       "<table border=\"1\" class=\"dataframe\">\n",
       "  <thead>\n",
       "    <tr style=\"text-align: right;\">\n",
       "      <th></th>\n",
       "      <th>Date</th>\n",
       "      <th>Minimum temperature (°C)</th>\n",
       "      <th>Maximum temperature (°C)</th>\n",
       "      <th>Rainfall (mm)</th>\n",
       "      <th>Sunshine (hours)</th>\n",
       "      <th>9am Temperature (°C)</th>\n",
       "      <th>9am wind direction</th>\n",
       "      <th>9am wind speed (km/h)</th>\n",
       "      <th>3pm Temperature (°C)</th>\n",
       "      <th>3pm wind direction</th>\n",
       "      <th>3pm wind speed (km/h)</th>\n",
       "    </tr>\n",
       "  </thead>\n",
       "  <tbody>\n",
       "    <tr>\n",
       "      <th>0</th>\n",
       "      <td>2023-07-1</td>\n",
       "      <td>9.7</td>\n",
       "      <td>13.5</td>\n",
       "      <td>0.4</td>\n",
       "      <td>4.2</td>\n",
       "      <td>10.9</td>\n",
       "      <td>W</td>\n",
       "      <td>11</td>\n",
       "      <td>11.3</td>\n",
       "      <td>SW</td>\n",
       "      <td>9</td>\n",
       "    </tr>\n",
       "    <tr>\n",
       "      <th>1</th>\n",
       "      <td>2023-07-2</td>\n",
       "      <td>9.6</td>\n",
       "      <td>12.8</td>\n",
       "      <td>0.6</td>\n",
       "      <td>0.2</td>\n",
       "      <td>10.5</td>\n",
       "      <td>SW</td>\n",
       "      <td>6</td>\n",
       "      <td>11.9</td>\n",
       "      <td>SSW</td>\n",
       "      <td>9</td>\n",
       "    </tr>\n",
       "    <tr>\n",
       "      <th>2</th>\n",
       "      <td>2023-07-3</td>\n",
       "      <td>8.2</td>\n",
       "      <td>14.5</td>\n",
       "      <td>0.4</td>\n",
       "      <td>0.2</td>\n",
       "      <td>8.4</td>\n",
       "      <td>NNE</td>\n",
       "      <td>7</td>\n",
       "      <td>14.1</td>\n",
       "      <td>N</td>\n",
       "      <td>13</td>\n",
       "    </tr>\n",
       "    <tr>\n",
       "      <th>3</th>\n",
       "      <td>2023-07-4</td>\n",
       "      <td>8.3</td>\n",
       "      <td>13.6</td>\n",
       "      <td>0.0</td>\n",
       "      <td>0.0</td>\n",
       "      <td>10.9</td>\n",
       "      <td>NNE</td>\n",
       "      <td>9</td>\n",
       "      <td>13.4</td>\n",
       "      <td>NE</td>\n",
       "      <td>9</td>\n",
       "    </tr>\n",
       "    <tr>\n",
       "      <th>4</th>\n",
       "      <td>2023-07-5</td>\n",
       "      <td>10.8</td>\n",
       "      <td>14.7</td>\n",
       "      <td>2.4</td>\n",
       "      <td>3.1</td>\n",
       "      <td>11.6</td>\n",
       "      <td>NW</td>\n",
       "      <td>4</td>\n",
       "      <td>13.7</td>\n",
       "      <td>NNW</td>\n",
       "      <td>13</td>\n",
       "    </tr>\n",
       "  </tbody>\n",
       "</table>\n",
       "</div>"
      ],
      "text/plain": [
       "        Date  Minimum temperature (°C)  Maximum temperature (°C)  \\\n",
       "0  2023-07-1                       9.7                      13.5   \n",
       "1  2023-07-2                       9.6                      12.8   \n",
       "2  2023-07-3                       8.2                      14.5   \n",
       "3  2023-07-4                       8.3                      13.6   \n",
       "4  2023-07-5                      10.8                      14.7   \n",
       "\n",
       "   Rainfall (mm)  Sunshine (hours)  9am Temperature (°C) 9am wind direction  \\\n",
       "0            0.4               4.2                  10.9                  W   \n",
       "1            0.6               0.2                  10.5                 SW   \n",
       "2            0.4               0.2                   8.4                NNE   \n",
       "3            0.0               0.0                  10.9                NNE   \n",
       "4            2.4               3.1                  11.6                 NW   \n",
       "\n",
       "  9am wind speed (km/h)  3pm Temperature (°C) 3pm wind direction  \\\n",
       "0                    11                  11.3                 SW   \n",
       "1                     6                  11.9                SSW   \n",
       "2                     7                  14.1                  N   \n",
       "3                     9                  13.4                 NE   \n",
       "4                     4                  13.7                NNW   \n",
       "\n",
       "  3pm wind speed (km/h)  \n",
       "0                     9  \n",
       "1                     9  \n",
       "2                    13  \n",
       "3                     9  \n",
       "4                    13  "
      ]
     },
     "execution_count": 14,
     "metadata": {},
     "output_type": "execute_result"
    }
   ],
   "source": [
    "weather.head()\n",
    "# check data types\n",
    "# some wind directions are missing and some wind speeds are listed as Calm\n",
    "# add column with min/max temp in comparison to previous few days, same for wind, same for rain"
   ]
  },
  {
   "cell_type": "code",
   "execution_count": 16,
   "id": "61df8783",
   "metadata": {
    "scrolled": true
   },
   "outputs": [
    {
     "name": "stdout",
     "output_type": "stream",
     "text": [
      "Index(['Activity ID', 'Activity Date', 'Activity Name', 'Activity Type',\n",
      "       'Activity Description', 'Elapsed Time', 'Distance', 'Max Heart Rate',\n",
      "       'Relative Effort', 'Commute', 'Activity Private Note', 'Activity Gear',\n",
      "       'Filename', 'Athlete Weight', 'Bike Weight', 'Elapsed Time.1',\n",
      "       'Moving Time', 'Distance.1', 'Max Speed', 'Average Speed',\n",
      "       'Elevation Gain', 'Elevation Loss', 'Elevation Low', 'Elevation High',\n",
      "       'Max Grade', 'Average Grade', 'Average Positive Grade',\n",
      "       'Average Negative Grade', 'Max Cadence', 'Average Cadence',\n",
      "       'Max Heart Rate.1', 'Average Heart Rate', 'Max Watts', 'Average Watts',\n",
      "       'Calories', 'Max Temperature', 'Average Temperature',\n",
      "       'Relative Effort.1', 'Total Work', 'Number of Runs', 'Uphill Time',\n",
      "       'Downhill Time', 'Other Time', 'Perceived Exertion', 'Type',\n",
      "       'Start Time', 'Weighted Average Power', 'Power Count',\n",
      "       'Prefer Perceived Exertion', 'Perceived Relative Effort', 'Commute.1',\n",
      "       'Total Weight Lifted', 'From Upload', 'Grade Adjusted Distance',\n",
      "       'Weather Observation Time', 'Weather Condition', 'Weather Temperature',\n",
      "       'Apparent Temperature', 'Dewpoint', 'Humidity', 'Weather Pressure',\n",
      "       'Wind Speed', 'Wind Gust', 'Wind Bearing', 'Precipitation Intensity',\n",
      "       'Sunrise Time', 'Sunset Time', 'Moon Phase', 'Bike', 'Gear',\n",
      "       'Precipitation Probability', 'Precipitation Type', 'Cloud Cover',\n",
      "       'Weather Visibility', 'UV Index', 'Weather Ozone', 'Jump Count',\n",
      "       'Total Grit', 'Average Flow', 'Flagged', 'Average Elapsed Speed',\n",
      "       'Dirt Distance', 'Newly Explored Distance',\n",
      "       'Newly Explored Dirt Distance', 'Activity Count', 'Total Steps',\n",
      "       'Carbon Saved', 'Pool Length', 'Training Load', 'Intensity',\n",
      "       'Average Grade Adjusted Pace', 'Timer Time', 'Total Cycles', 'Media'],\n",
      "      dtype='object')\n"
     ]
    }
   ],
   "source": [
    "print(cycling.columns)\n",
    "# just select the columns I want\n",
    "cycling = cycling[['Activity Date', 'Moving Time', 'Distance.1', 'Average Speed', 'Elevation Gain',\n",
    "                   'Average Temperature']]"
   ]
  },
  {
   "cell_type": "code",
   "execution_count": 21,
   "id": "2d2bda4a",
   "metadata": {
    "scrolled": true
   },
   "outputs": [
    {
     "data": {
      "text/html": [
       "<div>\n",
       "<style scoped>\n",
       "    .dataframe tbody tr th:only-of-type {\n",
       "        vertical-align: middle;\n",
       "    }\n",
       "\n",
       "    .dataframe tbody tr th {\n",
       "        vertical-align: top;\n",
       "    }\n",
       "\n",
       "    .dataframe thead th {\n",
       "        text-align: right;\n",
       "    }\n",
       "</style>\n",
       "<table border=\"1\" class=\"dataframe\">\n",
       "  <thead>\n",
       "    <tr style=\"text-align: right;\">\n",
       "      <th></th>\n",
       "      <th>Activity Date</th>\n",
       "      <th>Moving Time</th>\n",
       "      <th>Distance.1</th>\n",
       "      <th>Average Speed</th>\n",
       "      <th>Elevation Gain</th>\n",
       "      <th>Average Temperature</th>\n",
       "      <th>Date</th>\n",
       "      <th>Time</th>\n",
       "    </tr>\n",
       "  </thead>\n",
       "  <tbody>\n",
       "    <tr>\n",
       "      <th>0</th>\n",
       "      <td>5 Jul 2023, 06:40:41</td>\n",
       "      <td>3704.0</td>\n",
       "      <td>30432.550781</td>\n",
       "      <td>8.216131</td>\n",
       "      <td>30.0</td>\n",
       "      <td>11.0</td>\n",
       "      <td>2023-07-05</td>\n",
       "      <td>06:40:41</td>\n",
       "    </tr>\n",
       "    <tr>\n",
       "      <th>1</th>\n",
       "      <td>10 Jul 2023, 06:55:26</td>\n",
       "      <td>3748.0</td>\n",
       "      <td>30410.199219</td>\n",
       "      <td>8.113714</td>\n",
       "      <td>70.0</td>\n",
       "      <td>13.0</td>\n",
       "      <td>2023-07-10</td>\n",
       "      <td>06:55:26</td>\n",
       "    </tr>\n",
       "    <tr>\n",
       "      <th>2</th>\n",
       "      <td>12 Jul 2023, 07:39:00</td>\n",
       "      <td>4412.0</td>\n",
       "      <td>35607.578125</td>\n",
       "      <td>8.070621</td>\n",
       "      <td>40.0</td>\n",
       "      <td>13.0</td>\n",
       "      <td>2023-07-12</td>\n",
       "      <td>07:39:00</td>\n",
       "    </tr>\n",
       "    <tr>\n",
       "      <th>3</th>\n",
       "      <td>19 Jul 2023, 07:11:12</td>\n",
       "      <td>4264.0</td>\n",
       "      <td>35598.378906</td>\n",
       "      <td>8.348588</td>\n",
       "      <td>40.0</td>\n",
       "      <td>9.0</td>\n",
       "      <td>2023-07-19</td>\n",
       "      <td>07:11:12</td>\n",
       "    </tr>\n",
       "    <tr>\n",
       "      <th>4</th>\n",
       "      <td>21 Jul 2023, 01:48:48</td>\n",
       "      <td>3636.0</td>\n",
       "      <td>31191.509766</td>\n",
       "      <td>8.578523</td>\n",
       "      <td>59.0</td>\n",
       "      <td>13.0</td>\n",
       "      <td>2023-07-21</td>\n",
       "      <td>01:48:48</td>\n",
       "    </tr>\n",
       "  </tbody>\n",
       "</table>\n",
       "</div>"
      ],
      "text/plain": [
       "           Activity Date  Moving Time    Distance.1  Average Speed  \\\n",
       "0   5 Jul 2023, 06:40:41       3704.0  30432.550781       8.216131   \n",
       "1  10 Jul 2023, 06:55:26       3748.0  30410.199219       8.113714   \n",
       "2  12 Jul 2023, 07:39:00       4412.0  35607.578125       8.070621   \n",
       "3  19 Jul 2023, 07:11:12       4264.0  35598.378906       8.348588   \n",
       "4  21 Jul 2023, 01:48:48       3636.0  31191.509766       8.578523   \n",
       "\n",
       "   Elevation Gain  Average Temperature        Date      Time  \n",
       "0            30.0                 11.0  2023-07-05  06:40:41  \n",
       "1            70.0                 13.0  2023-07-10  06:55:26  \n",
       "2            40.0                 13.0  2023-07-12  07:39:00  \n",
       "3            40.0                  9.0  2023-07-19  07:11:12  \n",
       "4            59.0                 13.0  2023-07-21  01:48:48  "
      ]
     },
     "execution_count": 21,
     "metadata": {},
     "output_type": "execute_result"
    }
   ],
   "source": [
    "cycling.head()"
   ]
  },
  {
   "cell_type": "code",
   "execution_count": 20,
   "id": "b707546b",
   "metadata": {},
   "outputs": [],
   "source": [
    "# check for missing data\n",
    "# split Activity Date column into Date and Time with Date matching the formatting from weather dataframe.\n",
    "cycling['Date'] = pd.to_datetime(cycling['Activity Date'], format='%d %b %Y, %H:%M:%S').dt.strftime('%Y-%m-%d')\n",
    "cycling['Time'] = pd.to_datetime(cycling['Activity Date'], format='%d %b %Y, %H:%M:%S').dt.strftime('%H:%M:%S')\n",
    "# Move Date and Time columns to front\n",
    "# drop original Activity Date column"
   ]
  },
  {
   "cell_type": "code",
   "execution_count": null,
   "id": "5bc9817b",
   "metadata": {},
   "outputs": [],
   "source": [
    "# merge data sets and create a boolean Ride YN (1/2) column\n",
    "# create new temperature, wind direction and wind speed columns extracting data from 9am or 3pm depending on cycling Time columns"
   ]
  },
  {
   "cell_type": "markdown",
   "id": "918ad5a2",
   "metadata": {},
   "source": [
    "### Initial Analysis\n",
    "To analyze cycling habits, including how frequently you ride, how weather conditions affect your riding decisions, and patterns in your cycling behavior over time.\n",
    "\n",
    "Visuals\n",
    "How often do I ride, what days do I ride\n",
    "scatter plot with time and distance coloured by day of week? coloured by temperature?\n",
    "\n",
    "Features to Consider:\n",
    "\n",
    "    Weather Data:\n",
    "        Daily weather conditions\n",
    "        Historical weather data\n",
    "    Cycling Data:\n",
    "        Number of rides per week\n",
    "        Distance and duration of each ride\n",
    "        Frequency of rides on specific days of the week\n",
    "        Rest days\n",
    "        "
   ]
  },
  {
   "cell_type": "markdown",
   "id": "b823314b",
   "metadata": {},
   "source": [
    "### Machine Learning\n",
    "\n",
    "\n",
    "Modeling Approach:\n",
    "\n",
    "    Time Series Analysis: Using models like ARIMA or LSTM to predict optimal times based on historical performance data.\n",
    "    Regression Models: To relate weather conditions at different times of day to your performance metrics.\n",
    "    Clustering: K-means clustering to identify patterns in your riding times and performance.\n",
    "    \n",
    "\n",
    "Modeling Approach:\n",
    "\n",
    "    Descriptive Statistics:\n",
    "    Time Series Analysis: Identify trends and patterns in your riding frequency and distances over time.\n",
    "    Classification Models: Predict likelihood of riding based on past habits and current weather (e.g., logistic regression, decision trees).\n",
    "    Cluster Analysis: Segment your rides into different types (e.g., short commutes, long weekend rides) and analyze habits within each cluster."
   ]
  },
  {
   "cell_type": "markdown",
   "id": "bf99a7b3",
   "metadata": {},
   "source": [
    "### Results\n",
    "\n",
    "    Optimal Time Suggestions: Recommendations for the best times to ride based on predicted weather conditions and your historical performance."
   ]
  }
 ],
 "metadata": {
  "kernelspec": {
   "display_name": "Python 3 (ipykernel)",
   "language": "python",
   "name": "python3"
  },
  "language_info": {
   "codemirror_mode": {
    "name": "ipython",
    "version": 3
   },
   "file_extension": ".py",
   "mimetype": "text/x-python",
   "name": "python",
   "nbconvert_exporter": "python",
   "pygments_lexer": "ipython3",
   "version": "3.9.12"
  }
 },
 "nbformat": 4,
 "nbformat_minor": 5
}
